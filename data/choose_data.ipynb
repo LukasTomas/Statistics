{
 "cells": [
  {
   "cell_type": "code",
   "execution_count": 7,
   "metadata": {},
   "outputs": [],
   "source": [
    "import os\n",
    "import shutil"
   ]
  },
  {
   "cell_type": "markdown",
   "metadata": {},
   "source": [
    "## Parameters for choosing data for the project:\n",
    "\n",
    "- $K = $ birthday\n",
    "- $L = $ number of letters in the surname\n",
    "- $X = ((K*L*23) mod (20)) + 1$\n",
    "- $Y = ((X + ((K*5 + L*7) mod (19))) mod (20)) + 1$\n"
   ]
  },
  {
   "cell_type": "code",
   "execution_count": 3,
   "metadata": {},
   "outputs": [
    {
     "name": "stdout",
     "output_type": "stream",
     "text": [
      "X = 4, Y = 3\n"
     ]
    }
   ],
   "source": [
    "K = 29\n",
    "L = len('Petrzelka')\n",
    "X = ((K*L*23) % 20) + 1\n",
    "Y = ((X + ((K*5 + L*7) % 19)) % 20) + 1\n",
    "print(f'X = {X}, Y = {Y}')"
   ]
  },
  {
   "cell_type": "markdown",
   "metadata": {},
   "source": [
    "Choose data _xxx.txt_ and _yyy.txt_, where:\n",
    "\n",
    "- _xxx.txt_ is an $X$ prefixed with a 0(s) on the front to a three-digit number\n",
    "- _yyy.txt_ is an $Y$ prefixed with 0(s) on the front to a three-digit number\n"
   ]
  },
  {
   "cell_type": "code",
   "execution_count": null,
   "metadata": {},
   "outputs": [
    {
     "name": "stdout",
     "output_type": "stream",
     "text": [
      "Choose data files: 004.txt, 003.txt\n"
     ]
    },
    {
     "data": {
      "text/plain": [
       "'yyy.txt'"
      ]
     },
     "execution_count": 8,
     "metadata": {},
     "output_type": "execute_result"
    }
   ],
   "source": [
    "xxx_filename = '0' * (3 - len(str(X))) + str(X) + '.txt'\n",
    "yyy_filename = '0' * (3 - len(str(Y))) + str(Y) + '.txt'\n",
    "print(f'Chose data files: {xxx_filename}, {yyy_filename}')\n",
    "\n",
    "DATA_FILEPATH = os.path.join('download')\n",
    "xxx_filepath = os.path.join(DATA_FILEPATH, xxx_filename)\n",
    "yyy_filepath = os.path.join(DATA_FILEPATH, yyy_filename)\n",
    "\n",
    "# copy it to the current directory\n",
    "shutil.copyfile(xxx_filepath, 'xxx.txt')\n",
    "shutil.copyfile(yyy_filepath, 'yyy.txt')"
   ]
  }
 ],
 "metadata": {
  "kernelspec": {
   "display_name": "base",
   "language": "python",
   "name": "python3"
  },
  "language_info": {
   "codemirror_mode": {
    "name": "ipython",
    "version": 3
   },
   "file_extension": ".py",
   "mimetype": "text/x-python",
   "name": "python",
   "nbconvert_exporter": "python",
   "pygments_lexer": "ipython3",
   "version": "3.9.13"
  }
 },
 "nbformat": 4,
 "nbformat_minor": 2
}
